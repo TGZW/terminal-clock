{
 "cells": [
  {
   "cell_type": "code",
   "execution_count": 27,
   "metadata": {},
   "outputs": [],
   "source": [
    "import time\n",
    "import os"
   ]
  },
  {
   "cell_type": "code",
   "execution_count": 8,
   "metadata": {},
   "outputs": [],
   "source": [
    "COLON = ' \\n.\\n.'\n",
    "\n",
    "class Numbers:\n",
    "    def __init__(self):\n",
    "        self.zero = ' __ \\n|  |\\n|__|'\n",
    "        self.one = '    \\n   |\\n   |'\n",
    "        self.two = ' __ \\n __|\\n|__ '\n",
    "        self.three = ' __ \\n __|\\n __|'\n",
    "        self.four = '    \\n|__|\\n   |'\n",
    "        self.five = ' __ \\n|__ \\n __|'\n",
    "        self.six = ' __ \\n|__ \\n|__|'\n",
    "        self.seven = ' __ \\n   |\\n   |'\n",
    "        self.eight = ' __ \\n|__|\\n|__|'\n",
    "        self.nine = ' __ \\n|__|\\n   |'\n",
    "\n",
    "num = Numbers()\n",
    "NUM = num.__dict__"
   ]
  },
  {
   "cell_type": "code",
   "execution_count": 30,
   "metadata": {},
   "outputs": [],
   "source": [
    "def digits_parser(digits,rows=3):\n",
    "    return [''.join(dig.split('\\n')[i] for dig in digits) for i in range(rows)]\n",
    "\n",
    "def printer(digits):\n",
    "    for row in digits_parser(digits): print(row)"
   ]
  },
  {
   "cell_type": "code",
   "execution_count": 31,
   "metadata": {},
   "outputs": [
    {
     "name": "stdout",
     "output_type": "stream",
     "text": [
      " __     \n",
      "|  |   |\n",
      "|__|   |\n"
     ]
    }
   ],
   "source": [
    "printer([num.zero,num.one])"
   ]
  },
  {
   "cell_type": "code",
   "execution_count": 5,
   "metadata": {},
   "outputs": [
    {
     "data": {
      "text/plain": [
       "{'zero': ' __ \\n|  |\\n|__|',\n",
       " 'one': '    \\n   |\\n   |',\n",
       " 'two': ' __ \\n __|\\n|__ ',\n",
       " 'three': ' __ \\n __|\\n __|',\n",
       " 'four': '    \\n|__|\\n   |',\n",
       " 'five': ' __ \\n|__ \\n __|',\n",
       " 'six': ' __ \\n|__ \\n|__|',\n",
       " 'seven': ' __ \\n   |\\n   |',\n",
       " 'eight': ' __ \\n|__|\\n|__|',\n",
       " 'nine': ' __ \\n|__|\\n   |'}"
      ]
     },
     "execution_count": 5,
     "metadata": {},
     "output_type": "execute_result"
    }
   ],
   "source": [
    "num = Numbers()\n",
    "num.__dict__"
   ]
  },
  {
   "cell_type": "code",
   "execution_count": 14,
   "metadata": {},
   "outputs": [],
   "source": [
    "def hour():\n",
    "    return time.strftime(\"%H:%M:%S\",time.localtime())\n",
    "\n",
    "def non_efficient_hour_parser(hour):\n",
    "    digits = []\n",
    "    for i in hour().split(\":\"):\n",
    "        for j in i:\n",
    "            digits.appen(NUM[NUM.keys()[int(j)]])\n",
    "            # digit = num.__dict__[num.__dict__.keys()[int(j)]]\n",
    "        digits.append(COLON)\n",
    "    return digits[:-1]\n"
   ]
  },
  {
   "cell_type": "code",
   "execution_count": 12,
   "metadata": {},
   "outputs": [],
   "source": [
    "nums = {\n",
    "    \"0\": ' __ \\n|  |\\n|__|',\n",
    "    \"1\": '    \\n   |\\n   |',\n",
    "    \"2\": ' __ \\n __|\\n|__ ',\n",
    "    \"3\": ' __ \\n __|\\n __|',\n",
    "    \"4\": '    \\n|__|\\n   |',\n",
    "    \"5\": ' __ \\n|__ \\n __|',\n",
    "    \"6\": ' __ \\n|__ \\n|__|',\n",
    "    \"7\": ' __ \\n   |\\n   |',\n",
    "    \"8\": ' __ \\n|__|\\n|__|',\n",
    "    \"9\": ' __ \\n|__|\\n   |',\n",
    "    \":\": ' \\n.\\n.'\n",
    "}\n"
   ]
  },
  {
   "cell_type": "code",
   "execution_count": 26,
   "metadata": {},
   "outputs": [
    {
     "data": {
      "text/plain": [
       "[' __ \\n|  |\\n|__|',\n",
       " ' __ \\n|  |\\n|__|',\n",
       " ' \\n.\\n.',\n",
       " ' __ \\n __|\\n|__ ',\n",
       " ' __ \\n|__|\\n|__|',\n",
       " ' \\n.\\n.',\n",
       " ' __ \\n __|\\n __|',\n",
       " '    \\n|__|\\n   |']"
      ]
     },
     "execution_count": 26,
     "metadata": {},
     "output_type": "execute_result"
    }
   ],
   "source": [
    "def hour_parser(hour):\n",
    "    return [nums[i] for i in hour()]\n",
    "\n",
    "hour_parser(hour)"
   ]
  },
  {
   "cell_type": "code",
   "execution_count": 28,
   "metadata": {},
   "outputs": [],
   "source": [
    "def clear_output():\n",
    "    os.system('cls' if os.name == 'nt' else 'clear') "
   ]
  },
  {
   "cell_type": "code",
   "execution_count": 29,
   "metadata": {},
   "outputs": [],
   "source": [
    "def clock():\n",
    "    clear_output()\n",
    "    printer(hour_parser())\n",
    "    time.sleep(1)"
   ]
  },
  {
   "cell_type": "code",
   "execution_count": null,
   "metadata": {},
   "outputs": [],
   "source": []
  },
  {
   "cell_type": "code",
   "execution_count": null,
   "metadata": {},
   "outputs": [],
   "source": []
  },
  {
   "cell_type": "code",
   "execution_count": 33,
   "metadata": {},
   "outputs": [
    {
     "data": {
      "text/plain": [
       "26"
      ]
     },
     "execution_count": 33,
     "metadata": {},
     "output_type": "execute_result"
    }
   ],
   "source": [
    "len(\"the terminal clock  v1.0.0\")"
   ]
  },
  {
   "cell_type": "code",
   "execution_count": 34,
   "metadata": {},
   "outputs": [],
   "source": [
    "import requests\n",
    "from bs4 import BeautifulSoup\n",
    "  \n",
    "\n",
    "def headlines():\n",
    "    url = 'https://www.bbc.com/news'\n",
    "    response = requests.get(url)\n",
    "    \n",
    "    soup = BeautifulSoup(response.text, 'html.parser')\n",
    "    headlines = soup.find('body').find_all('h3')\n",
    "    unwanted = ['BBC World News TV', 'BBC World Service Radio',\n",
    "                'News daily newsletter', 'Mobile app', 'Get in touch']\n",
    "    \n",
    "    return ' | '.join(x.text.strip() for x in list(dict.fromkeys(headlines)) if x.text.strip() not in unwanted)\n"
   ]
  },
  {
   "cell_type": "code",
   "execution_count": 35,
   "metadata": {},
   "outputs": [
    {
     "data": {
      "text/plain": [
       "\"FBI cites 'evidence of obstruction' in Trump search | Moderna suing Pfizer over Covid vaccine technology | Zuckerberg admits mistakes on Biden laptop story | Russia burns off gas as Europe's energy bills rocket | Turkish singer held over religious schools joke | I can't help my starving Ethiopian family - WHO boss | Macron: UK is a friend in spite of its leaders | Hungarians told education becoming 'too feminine' | Monsoons bring misery to millions in Pakistan | Strictest sewage targets pledged for England | China outcry after volleyballers don N95 masks | Instagram says precise location is never shared | British boys die after being pulled from German lake | Rare sight of women at Iranian football match | ‘My daughter happened because of the Gay Games’ | Huge dinosaur skeleton unearthed in garden | Microsoft co-founder's art to sell for $1bn | How to stay cool the Japanese way | Latvia brings down Soviet-era WW2 monument | Weekly quiz: Where is William and Kate’s new home? | The far-right leader who's favourite to run Italy | What pushed gas prices to extreme highs? | 'I need an abortion': Text that gets pills sent in secret | 'You can't imagine how terrified we were' | When a 17-year-old Serena showed the tennis world its future | How explosives will bring down India's 'Twin Towers' | Working in a war zone to make new video games | Why your gut bacteria like a workout | The workplace stigma that won't budge | Iraq's answer to the pyramids | 11 films to watch this September | Living without plastic in Japan | What remote-work bullying looks like | Can Hawaii solve a global food crisis? | Stokes and Foakes centuries give England control | Verstappen & Leclerc to start Belgian GP from back | Hobbs wins 100m as Fraser-Pryce pulls out injured | 'Experience of winning Wimbledon not the greatest' | Schauffele closes Scheffler lead to two shots | White suffered punctured lung during acupuncture | Newcastle confirm signing of Sweden striker Isak\""
      ]
     },
     "execution_count": 35,
     "metadata": {},
     "output_type": "execute_result"
    }
   ],
   "source": [
    "heads = headlines()\n",
    "heads"
   ]
  },
  {
   "cell_type": "code",
   "execution_count": 92,
   "metadata": {},
   "outputs": [],
   "source": [
    "length = 26\n",
    "\n",
    "def telepromter(i):\n",
    "    yield heads[i:i+length]\n",
    "    yield from telepromter(i+1)"
   ]
  },
  {
   "cell_type": "code",
   "execution_count": 93,
   "metadata": {},
   "outputs": [],
   "source": [
    "tp = telepromter(1)"
   ]
  },
  {
   "cell_type": "code",
   "execution_count": 102,
   "metadata": {},
   "outputs": [
    {
     "name": "stdout",
     "output_type": "stream",
     "text": [
      "9\n",
      "26\n"
     ]
    },
    {
     "data": {
      "text/plain": [
       "\" 'evidence of obstruction'\""
      ]
     },
     "execution_count": 102,
     "metadata": {},
     "output_type": "execute_result"
    }
   ],
   "source": [
    "next(tp)"
   ]
  },
  {
   "cell_type": "code",
   "execution_count": 66,
   "metadata": {},
   "outputs": [],
   "source": [
    "def gen(n):\n",
    "    yield n\n",
    "    yield from gen(n+1)"
   ]
  },
  {
   "cell_type": "code",
   "execution_count": 67,
   "metadata": {},
   "outputs": [
    {
     "data": {
      "text/plain": [
       "<generator object gen at 0x000001D52AADD270>"
      ]
     },
     "execution_count": 67,
     "metadata": {},
     "output_type": "execute_result"
    }
   ],
   "source": [
    "a = gen(10)\n",
    "a"
   ]
  },
  {
   "cell_type": "code",
   "execution_count": 78,
   "metadata": {},
   "outputs": [
    {
     "data": {
      "text/plain": [
       "20"
      ]
     },
     "execution_count": 78,
     "metadata": {},
     "output_type": "execute_result"
    }
   ],
   "source": [
    "next(a)"
   ]
  },
  {
   "cell_type": "code",
   "execution_count": 88,
   "metadata": {},
   "outputs": [],
   "source": [
    "def teleprom(i):\n",
    "    return heads[i,int(i+length)]"
   ]
  },
  {
   "cell_type": "code",
   "execution_count": 89,
   "metadata": {},
   "outputs": [
    {
     "ename": "TypeError",
     "evalue": "string indices must be integers",
     "output_type": "error",
     "traceback": [
      "\u001b[1;31m---------------------------------------------------------------------------\u001b[0m",
      "\u001b[1;31mTypeError\u001b[0m                                 Traceback (most recent call last)",
      "\u001b[1;32mc:\\tgzw\\PycharmProjects\\terminal-clock\\test2-terminal-clock.ipynb Celda 23\u001b[0m in \u001b[0;36m<cell line: 1>\u001b[1;34m()\u001b[0m\n\u001b[0;32m      <a href='vscode-notebook-cell:/c%3A/tgzw/PycharmProjects/terminal-clock/test2-terminal-clock.ipynb#X32sZmlsZQ%3D%3D?line=0'>1</a>\u001b[0m \u001b[39mfor\u001b[39;00m i \u001b[39min\u001b[39;00m \u001b[39mrange\u001b[39m(\u001b[39m10\u001b[39m):\n\u001b[1;32m----> <a href='vscode-notebook-cell:/c%3A/tgzw/PycharmProjects/terminal-clock/test2-terminal-clock.ipynb#X32sZmlsZQ%3D%3D?line=1'>2</a>\u001b[0m     \u001b[39mprint\u001b[39m(teleprom(i))\n",
      "\u001b[1;32mc:\\tgzw\\PycharmProjects\\terminal-clock\\test2-terminal-clock.ipynb Celda 23\u001b[0m in \u001b[0;36mteleprom\u001b[1;34m(i)\u001b[0m\n\u001b[0;32m      <a href='vscode-notebook-cell:/c%3A/tgzw/PycharmProjects/terminal-clock/test2-terminal-clock.ipynb#X32sZmlsZQ%3D%3D?line=0'>1</a>\u001b[0m \u001b[39mdef\u001b[39;00m \u001b[39mteleprom\u001b[39m(i):\n\u001b[1;32m----> <a href='vscode-notebook-cell:/c%3A/tgzw/PycharmProjects/terminal-clock/test2-terminal-clock.ipynb#X32sZmlsZQ%3D%3D?line=1'>2</a>\u001b[0m     \u001b[39mreturn\u001b[39;00m heads[i,\u001b[39mint\u001b[39;49m(i\u001b[39m+\u001b[39;49mlength)]\n",
      "\u001b[1;31mTypeError\u001b[0m: string indices must be integers"
     ]
    }
   ],
   "source": [
    "for i in range(10):\n",
    "    print(teleprom(i))"
   ]
  }
 ],
 "metadata": {
  "kernelspec": {
   "display_name": "Python 3.8.8 ('venv': venv)",
   "language": "python",
   "name": "python3"
  },
  "language_info": {
   "codemirror_mode": {
    "name": "ipython",
    "version": 3
   },
   "file_extension": ".py",
   "mimetype": "text/x-python",
   "name": "python",
   "nbconvert_exporter": "python",
   "pygments_lexer": "ipython3",
   "version": "3.8.8"
  },
  "orig_nbformat": 4,
  "vscode": {
   "interpreter": {
    "hash": "d51c2a0e8d84accb44a7f12a865df18fe955bb4efe92881841ddf8d44fe842ae"
   }
  }
 },
 "nbformat": 4,
 "nbformat_minor": 2
}
