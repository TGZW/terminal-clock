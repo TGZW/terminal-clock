{
 "cells": [
  {
   "cell_type": "code",
   "execution_count": 27,
   "metadata": {},
   "outputs": [],
   "source": [
    "import time\n",
    "import os"
   ]
  },
  {
   "cell_type": "code",
   "execution_count": 8,
   "metadata": {},
   "outputs": [],
   "source": [
    "COLON = ' \\n.\\n.'\n",
    "\n",
    "class Numbers:\n",
    "    def __init__(self):\n",
    "        self.zero = ' __ \\n|  |\\n|__|'\n",
    "        self.one = '    \\n   |\\n   |'\n",
    "        self.two = ' __ \\n __|\\n|__ '\n",
    "        self.three = ' __ \\n __|\\n __|'\n",
    "        self.four = '    \\n|__|\\n   |'\n",
    "        self.five = ' __ \\n|__ \\n __|'\n",
    "        self.six = ' __ \\n|__ \\n|__|'\n",
    "        self.seven = ' __ \\n   |\\n   |'\n",
    "        self.eight = ' __ \\n|__|\\n|__|'\n",
    "        self.nine = ' __ \\n|__|\\n   |'\n",
    "\n",
    "num = Numbers()\n",
    "NUM = num.__dict__"
   ]
  },
  {
   "cell_type": "code",
   "execution_count": 30,
   "metadata": {},
   "outputs": [],
   "source": [
    "def digits_parser(digits,rows=3):\n",
    "    return [''.join(dig.split('\\n')[i] for dig in digits) for i in range(rows)]\n",
    "\n",
    "def printer(digits):\n",
    "    for row in digits_parser(digits): print(row)"
   ]
  },
  {
   "cell_type": "code",
   "execution_count": 31,
   "metadata": {},
   "outputs": [
    {
     "name": "stdout",
     "output_type": "stream",
     "text": [
      " __     \n",
      "|  |   |\n",
      "|__|   |\n"
     ]
    }
   ],
   "source": [
    "printer([num.zero,num.one])"
   ]
  },
  {
   "cell_type": "code",
   "execution_count": 5,
   "metadata": {},
   "outputs": [
    {
     "data": {
      "text/plain": [
       "{'zero': ' __ \\n|  |\\n|__|',\n",
       " 'one': '    \\n   |\\n   |',\n",
       " 'two': ' __ \\n __|\\n|__ ',\n",
       " 'three': ' __ \\n __|\\n __|',\n",
       " 'four': '    \\n|__|\\n   |',\n",
       " 'five': ' __ \\n|__ \\n __|',\n",
       " 'six': ' __ \\n|__ \\n|__|',\n",
       " 'seven': ' __ \\n   |\\n   |',\n",
       " 'eight': ' __ \\n|__|\\n|__|',\n",
       " 'nine': ' __ \\n|__|\\n   |'}"
      ]
     },
     "execution_count": 5,
     "metadata": {},
     "output_type": "execute_result"
    }
   ],
   "source": [
    "num = Numbers()\n",
    "num.__dict__"
   ]
  },
  {
   "cell_type": "code",
   "execution_count": 14,
   "metadata": {},
   "outputs": [],
   "source": [
    "def hour():\n",
    "    return time.strftime(\"%H:%M:%S\",time.localtime())\n",
    "\n",
    "def non_efficient_hour_parser(hour):\n",
    "    digits = []\n",
    "    for i in hour().split(\":\"):\n",
    "        for j in i:\n",
    "            digits.appen(NUM[NUM.keys()[int(j)]])\n",
    "            # digit = num.__dict__[num.__dict__.keys()[int(j)]]\n",
    "        digits.append(COLON)\n",
    "    return digits[:-1]\n"
   ]
  },
  {
   "cell_type": "code",
   "execution_count": 12,
   "metadata": {},
   "outputs": [],
   "source": [
    "nums = {\n",
    "    \"0\": ' __ \\n|  |\\n|__|',\n",
    "    \"1\": '    \\n   |\\n   |',\n",
    "    \"2\": ' __ \\n __|\\n|__ ',\n",
    "    \"3\": ' __ \\n __|\\n __|',\n",
    "    \"4\": '    \\n|__|\\n   |',\n",
    "    \"5\": ' __ \\n|__ \\n __|',\n",
    "    \"6\": ' __ \\n|__ \\n|__|',\n",
    "    \"7\": ' __ \\n   |\\n   |',\n",
    "    \"8\": ' __ \\n|__|\\n|__|',\n",
    "    \"9\": ' __ \\n|__|\\n   |',\n",
    "    \":\": ' \\n.\\n.'\n",
    "}\n"
   ]
  },
  {
   "cell_type": "code",
   "execution_count": 26,
   "metadata": {},
   "outputs": [
    {
     "data": {
      "text/plain": [
       "[' __ \\n|  |\\n|__|',\n",
       " ' __ \\n|  |\\n|__|',\n",
       " ' \\n.\\n.',\n",
       " ' __ \\n __|\\n|__ ',\n",
       " ' __ \\n|__|\\n|__|',\n",
       " ' \\n.\\n.',\n",
       " ' __ \\n __|\\n __|',\n",
       " '    \\n|__|\\n   |']"
      ]
     },
     "execution_count": 26,
     "metadata": {},
     "output_type": "execute_result"
    }
   ],
   "source": [
    "def hour_parser(hour):\n",
    "    return [nums[i] for i in hour()]\n",
    "\n",
    "hour_parser(hour)"
   ]
  },
  {
   "cell_type": "code",
   "execution_count": 28,
   "metadata": {},
   "outputs": [],
   "source": [
    "def clear_output():\n",
    "    os.system('cls' if os.name == 'nt' else 'clear') "
   ]
  },
  {
   "cell_type": "code",
   "execution_count": 29,
   "metadata": {},
   "outputs": [],
   "source": [
    "def clock():\n",
    "    clear_output()\n",
    "    printer(hour_parser())\n",
    "    time.sleep(1)"
   ]
  },
  {
   "cell_type": "code",
   "execution_count": null,
   "metadata": {},
   "outputs": [],
   "source": []
  },
  {
   "cell_type": "code",
   "execution_count": null,
   "metadata": {},
   "outputs": [],
   "source": []
  },
  {
   "cell_type": "code",
   "execution_count": 33,
   "metadata": {},
   "outputs": [
    {
     "data": {
      "text/plain": [
       "26"
      ]
     },
     "execution_count": 33,
     "metadata": {},
     "output_type": "execute_result"
    }
   ],
   "source": [
    "len(\"the terminal clock  v1.0.0\")"
   ]
  },
  {
   "cell_type": "code",
   "execution_count": 34,
   "metadata": {},
   "outputs": [],
   "source": [
    "import requests\n",
    "from bs4 import BeautifulSoup\n",
    "  \n",
    "\n",
    "def headlines():\n",
    "    url = 'https://www.bbc.com/news'\n",
    "    response = requests.get(url)\n",
    "    \n",
    "    soup = BeautifulSoup(response.text, 'html.parser')\n",
    "    headlines = soup.find('body').find_all('h3')\n",
    "    unwanted = ['BBC World News TV', 'BBC World Service Radio',\n",
    "                'News daily newsletter', 'Mobile app', 'Get in touch']\n",
    "    \n",
    "    return ' | '.join(x.text.strip() for x in list(dict.fromkeys(headlines)) if x.text.strip() not in unwanted)\n"
   ]
  },
  {
   "cell_type": "code",
   "execution_count": 35,
   "metadata": {},
   "outputs": [
    {
     "data": {
      "text/plain": [
       "\"FBI cites 'evidence of obstruction' in Trump search | Moderna suing Pfizer over Covid vaccine technology | Zuckerberg admits mistakes on Biden laptop story | Russia burns off gas as Europe's energy bills rocket | Turkish singer held over religious schools joke | I can't help my starving Ethiopian family - WHO boss | Macron: UK is a friend in spite of its leaders | Hungarians told education becoming 'too feminine' | Monsoons bring misery to millions in Pakistan | Strictest sewage targets pledged for England | China outcry after volleyballers don N95 masks | Instagram says precise location is never shared | British boys die after being pulled from German lake | Rare sight of women at Iranian football match | ‘My daughter happened because of the Gay Games’ | Huge dinosaur skeleton unearthed in garden | Microsoft co-founder's art to sell for $1bn | How to stay cool the Japanese way | Latvia brings down Soviet-era WW2 monument | Weekly quiz: Where is William and Kate’s new home? | The far-right leader who's favourite to run Italy | What pushed gas prices to extreme highs? | 'I need an abortion': Text that gets pills sent in secret | 'You can't imagine how terrified we were' | When a 17-year-old Serena showed the tennis world its future | How explosives will bring down India's 'Twin Towers' | Working in a war zone to make new video games | Why your gut bacteria like a workout | The workplace stigma that won't budge | Iraq's answer to the pyramids | 11 films to watch this September | Living without plastic in Japan | What remote-work bullying looks like | Can Hawaii solve a global food crisis? | Stokes and Foakes centuries give England control | Verstappen & Leclerc to start Belgian GP from back | Hobbs wins 100m as Fraser-Pryce pulls out injured | 'Experience of winning Wimbledon not the greatest' | Schauffele closes Scheffler lead to two shots | White suffered punctured lung during acupuncture | Newcastle confirm signing of Sweden striker Isak\""
      ]
     },
     "execution_count": 35,
     "metadata": {},
     "output_type": "execute_result"
    }
   ],
   "source": [
    "heads = headlines()\n",
    "heads"
   ]
  },
  {
   "cell_type": "code",
   "execution_count": 92,
   "metadata": {},
   "outputs": [],
   "source": [
    "length = 26\n",
    "\n",
    "def telepromter(i):\n",
    "    yield heads[i:i+length]\n",
    "    yield from telepromter(i+1)"
   ]
  },
  {
   "cell_type": "code",
   "execution_count": 93,
   "metadata": {},
   "outputs": [],
   "source": [
    "tp = telepromter(1)"
   ]
  },
  {
   "cell_type": "code",
   "execution_count": 102,
   "metadata": {},
   "outputs": [
    {
     "name": "stdout",
     "output_type": "stream",
     "text": [
      "9\n",
      "26\n"
     ]
    },
    {
     "data": {
      "text/plain": [
       "\" 'evidence of obstruction'\""
      ]
     },
     "execution_count": 102,
     "metadata": {},
     "output_type": "execute_result"
    }
   ],
   "source": [
    "next(tp)"
   ]
  },
  {
   "cell_type": "code",
   "execution_count": 66,
   "metadata": {},
   "outputs": [],
   "source": [
    "def gen(n):\n",
    "    yield n\n",
    "    yield from gen(n+1)"
   ]
  },
  {
   "cell_type": "code",
   "execution_count": 67,
   "metadata": {},
   "outputs": [
    {
     "data": {
      "text/plain": [
       "<generator object gen at 0x000001D52AADD270>"
      ]
     },
     "execution_count": 67,
     "metadata": {},
     "output_type": "execute_result"
    }
   ],
   "source": [
    "a = gen(10)\n",
    "a"
   ]
  },
  {
   "cell_type": "code",
   "execution_count": 78,
   "metadata": {},
   "outputs": [
    {
     "data": {
      "text/plain": [
       "20"
      ]
     },
     "execution_count": 78,
     "metadata": {},
     "output_type": "execute_result"
    }
   ],
   "source": [
    "next(a)"
   ]
  },
  {
   "cell_type": "code",
   "execution_count": 88,
   "metadata": {},
   "outputs": [],
   "source": [
    "def teleprom(i):\n",
    "    return heads[i,int(i+length)]"
   ]
  },
  {
   "cell_type": "code",
   "execution_count": 89,
   "metadata": {},
   "outputs": [
    {
     "ename": "TypeError",
     "evalue": "string indices must be integers",
     "output_type": "error",
     "traceback": [
      "\u001b[1;31m---------------------------------------------------------------------------\u001b[0m",
      "\u001b[1;31mTypeError\u001b[0m                                 Traceback (most recent call last)",
      "\u001b[1;32mc:\\tgzw\\PycharmProjects\\terminal-clock\\test2-terminal-clock.ipynb Celda 23\u001b[0m in \u001b[0;36m<cell line: 1>\u001b[1;34m()\u001b[0m\n\u001b[0;32m      <a href='vscode-notebook-cell:/c%3A/tgzw/PycharmProjects/terminal-clock/test2-terminal-clock.ipynb#X32sZmlsZQ%3D%3D?line=0'>1</a>\u001b[0m \u001b[39mfor\u001b[39;00m i \u001b[39min\u001b[39;00m \u001b[39mrange\u001b[39m(\u001b[39m10\u001b[39m):\n\u001b[1;32m----> <a href='vscode-notebook-cell:/c%3A/tgzw/PycharmProjects/terminal-clock/test2-terminal-clock.ipynb#X32sZmlsZQ%3D%3D?line=1'>2</a>\u001b[0m     \u001b[39mprint\u001b[39m(teleprom(i))\n",
      "\u001b[1;32mc:\\tgzw\\PycharmProjects\\terminal-clock\\test2-terminal-clock.ipynb Celda 23\u001b[0m in \u001b[0;36mteleprom\u001b[1;34m(i)\u001b[0m\n\u001b[0;32m      <a href='vscode-notebook-cell:/c%3A/tgzw/PycharmProjects/terminal-clock/test2-terminal-clock.ipynb#X32sZmlsZQ%3D%3D?line=0'>1</a>\u001b[0m \u001b[39mdef\u001b[39;00m \u001b[39mteleprom\u001b[39m(i):\n\u001b[1;32m----> <a href='vscode-notebook-cell:/c%3A/tgzw/PycharmProjects/terminal-clock/test2-terminal-clock.ipynb#X32sZmlsZQ%3D%3D?line=1'>2</a>\u001b[0m     \u001b[39mreturn\u001b[39;00m heads[i,\u001b[39mint\u001b[39;49m(i\u001b[39m+\u001b[39;49mlength)]\n",
      "\u001b[1;31mTypeError\u001b[0m: string indices must be integers"
     ]
    }
   ],
   "source": [
    "for i in range(10):\n",
    "    print(teleprom(i))"
   ]
  },
  {
   "cell_type": "code",
   "execution_count": 114,
   "metadata": {},
   "outputs": [
    {
     "data": {
      "text/plain": [
       "8307806889"
      ]
     },
     "execution_count": 114,
     "metadata": {},
     "output_type": "execute_result"
    }
   ],
   "source": [
    "12 % 10\n",
    "int(time.time()*5)"
   ]
  },
  {
   "cell_type": "code",
   "execution_count": 117,
   "metadata": {},
   "outputs": [
    {
     "data": {
      "text/plain": [
       "'BI cites '"
      ]
     },
     "execution_count": 117,
     "metadata": {},
     "output_type": "execute_result"
    }
   ],
   "source": [
    "h10 = heads[:10]\n",
    "h10[1:30]"
   ]
  },
  {
   "cell_type": "code",
   "execution_count": null,
   "metadata": {},
   "outputs": [],
   "source": []
  },
  {
   "cell_type": "code",
   "execution_count": 24,
   "metadata": {},
   "outputs": [],
   "source": [
    "from youtube_transcript_api import YouTubeTranscriptApi\n",
    "\n",
    "\n",
    "video_id = \"ysiJyNpJfP0\"\n",
    "video_id = \"lAuvjkji-lE\" # cajon mesilla\n",
    "\n",
    "conchicc1 = YouTubeTranscriptApi.get_transcripts([video_id], languages=['es'])"
   ]
  },
  {
   "cell_type": "code",
   "execution_count": 25,
   "metadata": {},
   "outputs": [
    {
     "name": "stdout",
     "output_type": "stream",
     "text": [
      "como sabéis estudio y reestructurando la casa y ordenando la completamente ahora\n",
      "casa y ordenando la completamente ahora voy a pasar al cajón de mi mesita de\n",
      "voy a pasar al cajón de mi mesita de noche para que ustedes vean cómo está y\n",
      "noche para que ustedes vean cómo está y cómo lo voy a dejar yo voy a proceder a\n",
      "cómo lo voy a dejar yo voy a proceder a sacar el cajón amor a cerca de ese vamos\n",
      "sacar el cajón amor a cerca de ese vamos a ver como pala para tirar nada un\n",
      "a ver como pala para tirar nada un momentito lo voy a sacar\n",
      "momentito lo voy a sacar voy a poner aquí encima vamos a ir\n",
      "voy a poner aquí encima vamos a ir viendo lo que tengo\n",
      "viendo lo que tengo para empezar\n",
      "para empezar y de su apertura aperturas\n",
      "y de su apertura aperturas madre mía de mi alma\n",
      "madre mía de mi alma apertura\n",
      "apertura el teléfono móvil papeles de chica más\n",
      "el teléfono móvil papeles de chica más chico más chile\n",
      "chico más chile la cara condones\n",
      "la cara condones del área\n",
      "del área que quedan unas poquitas pero de cabeza\n",
      "que quedan unas poquitas pero de cabeza está me la llevo para cocinar un antifaz\n",
      "está me la llevo para cocinar un antifaz para dormir o para relajarme\n",
      "para dormir o para relajarme un ventilador de todo me tocó en una\n",
      "un ventilador de todo me tocó en una especie de huevo kinder huasi\n",
      "especie de huevo kinder huasi no le tocó a mí este este chico que no\n",
      "no le tocó a mí este este chico que no tiene nada dentro propias para\n",
      "tiene nada dentro propias para auriculares\n",
      "auriculares aquí que a donde conservó yo\n",
      "aquí que a donde conservó yo a ver para así me cargador\n",
      "a ver para así me cargador de el móvil portátil\n",
      "de el móvil portátil y además conservo\n",
      "y además conservo también en él\n",
      "también en él algún usb\n",
      "algún usb en este de éste\n",
      "en este de éste de este pañuelo\n",
      "de este pañuelo algunos chicos\n",
      "algunos chicos papeles para tirar\n",
      "papeles para tirar no ponga orgullo\n",
      "no ponga orgullo más papeles para tirar un prospecto para\n",
      "más papeles para tirar un prospecto para tirar madre mía de mi arma\n",
      "tirar madre mía de mi arma la tapadera de la calle\n",
      "la tapadera de la calle esto para tira\n",
      "esto para tira para mirar\n",
      "para mirar para tirar\n",
      "para tirar es una gominola de esas que mandan con\n",
      "es una gominola de esas que mandan con el maquillaje\n",
      "el maquillaje caramelos para la tos\n",
      "caramelos para la tos puesto para tirarlo me construyó que\n",
      "puesto para tirarlo me construyó que tirofijo esto que es con velcro pues si\n",
      "tirofijo esto que es con velcro pues si tengo que pillar alguna cosita\n",
      "tengo que pillar alguna cosita tal vez de pañuelo los dados estos para\n",
      "tal vez de pañuelo los dados estos para los juegos sexuales\n",
      "los juegos sexuales y\n",
      "y esto no tira por ejemplo así y te sale\n",
      "esto no tira por ejemplo así y te sale por ejemplo sí\n",
      "por ejemplo sí tocar orejas de tocar oreja o poder allí\n",
      "tocar orejas de tocar oreja o poder allí besar\n",
      "besar una linterna\n",
      "una linterna claro sin vida\n",
      "claro sin vida esto que vamos a radio\n",
      "esto que vamos a radio leche estas monedas ya no valen ni\n",
      "leche estas monedas ya no valen ni tocarla para la prosperidad\n",
      "tocarla para la prosperidad los caramelos 3 que son para la tos\n",
      "los caramelos 3 que son para la tos también invierno según una mamá la una\n",
      "también invierno según una mamá la una tierra de niñas y esto más caramelos\n",
      "tierra de niñas y esto más caramelos para la tos ángel lector\n",
      "para la tos ángel lector una linga no sea mal pensado que ésta ha\n",
      "una linga no sea mal pensado que ésta ha sido de cuando le daba a mi niño el\n",
      "sido de cuando le daba a mi niño el jarabe que se lo tengo que dar con\n",
      "jarabe que se lo tengo que dar con jeringuilla\n",
      "jeringuilla esto derrapar me lo pide lo entendéis\n",
      "esto derrapar me lo pide lo entendéis alquiler top también probé\n",
      "alquiler top también probé importa de todo esto para poner el móvil\n",
      "importa de todo esto para poner el móvil aquí pero como ya no me vale aquí\n",
      "aquí pero como ya no me vale aquí ponerlo con otro de recuerdo\n",
      "ponerlo con otro de recuerdo una cartera su apertura que me compras\n",
      "una cartera su apertura que me compras un montón de años en sevilla en un\n",
      "un montón de años en sevilla en un centro comercial que había una tienda de\n",
      "centro comercial que había una tienda de de disney y me lo compré de allí y bueno\n",
      "de disney y me lo compré de allí y bueno pues le tengo de recuerdo porque iba con\n",
      "pues le tengo de recuerdo porque iba con mi hermano y lo tengo ahí veis la buscar\n",
      "mi hermano y lo tengo ahí veis la buscar y allá del arábigo decía\n",
      "y allá del arábigo decía y esto me lo compré en parís\n",
      "y esto me lo compré en parís y lo tengo para metérselo hacia los\n",
      "y lo tengo para metérselo hacia los libros que estoy leyendo pero es que\n",
      "libros que estoy leyendo pero es que ahora no estoy leyendo uno\n",
      "ahora no estoy leyendo uno cuando fui a madrid me compré esta\n",
      "cuando fui a madrid me compré esta postal de sergio ramos otra más y esta\n",
      "postal de sergio ramos otra más y esta de guti y esto no tiene hoyos por nada\n",
      "de guti y esto no tiene hoyos por nada del mundo me apreté\n",
      "del mundo me apreté amada chiquilla\n",
      "amada chiquilla factura\n",
      "factura aquí tengo\n",
      "aquí tengo mi libro para ir a misa\n",
      "mi libro para ir a misa y para para rezar el rosario y aquí\n",
      "y para para rezar el rosario y aquí tengo un rosario\n",
      "tengo un rosario estaba viendo los dolores\n",
      "estaba viendo los dolores esto\n",
      "esto la cartilla que yo tenía\n",
      "la cartilla que yo tenía cuando estaba embarazada bueno cuando\n",
      "cuando estaba embarazada bueno cuando termine de está embarazada que todavía\n",
      "termine de está embarazada que todavía me pinchaba insulina hasta que ya empecé\n",
      "me pinchaba insulina hasta que ya empecé con las pastillas otra vez\n",
      "con las pastillas otra vez y todo esto\n",
      "y todo esto son facturilla y cosas bueno voy a\n",
      "son facturilla y cosas bueno voy a cortar y ahora regreso\n",
      "cortar y ahora regreso bueno pues así ha quedado mi cajón ya\n",
      "bueno pues así ha quedado mi cajón ya ordenado y limpio\n",
      "ordenado y limpio me he traído la biblia para que esté al\n",
      "me he traído la biblia para que esté al lado de el misal y de el rosario y luego\n",
      "lado de el misal y de el rosario y luego me todo esté cofrecito\n",
      "me todo esté cofrecito que tiene dentro también algunos\n",
      "que tiene dentro también algunos rosarios y algunas cositas de souvenir\n",
      "rosarios y algunas cositas de souvenir vale he guardado aquí la cartera que os\n",
      "vale he guardado aquí la cartera que os dice\n",
      "dice esto\n",
      "esto las pastillas para todos los que no son\n",
      "las pastillas para todos los que no son parte es un caramelo una linterna que\n",
      "parte es un caramelo una linterna que tengo los chicles de este de auriculares\n",
      "tengo los chicles de este de auriculares el antifaz pañuelos de papel\n",
      "el antifaz pañuelos de papel los auriculares nuevos el cacao que\n",
      "los auriculares nuevos el cacao que estoy utilizando ahora y esto qué es\n",
      "estoy utilizando ahora y esto qué es cómo se llama viva por viva poruqe sólo\n",
      "cómo se llama viva por viva poruqe sólo está echando a mi niños este invierno y\n",
      "está echando a mi niños este invierno y yo también pero me falta una cosa\n",
      "yo también pero me falta una cosa esperar pero vuelvo\n",
      "esperar pero vuelvo bueno me faltaba es en ese ser en el que\n",
      "bueno me faltaba es en ese ser en el que lo que tengo dentro son bálsamos\n",
      "lo que tengo dentro son bálsamos labiales y una crema para los pies vale\n",
      "labiales y una crema para los pies vale y esta estampa de la virgen que la voy a\n",
      "y esta estampa de la virgen que la voy a meter también para poner aquí encima de\n",
      "meter también para poner aquí encima de la biblia y bueno pues ya está así ha\n",
      "la biblia y bueno pues ya está así ha quedado el cajón ahora voy a proceder a\n",
      "quedado el cajón ahora voy a proceder a introducirlo en el sitio correspondiente\n",
      "introducirlo en el sitio correspondiente vamos a ver si se ve bien\n",
      "vamos a ver si se ve bien la introducción del mismo\n",
      "la introducción del mismo los que estoy aquí\n",
      "los que estoy aquí en un sitio en un chongo\n",
      "en un sitio en un chongo no tengo aquí trípode\n",
      "no tengo aquí trípode - y ya está el cajón en su sitio\n",
      "- y ya está el cajón en su sitio voy a proceder estudiando la vuelta\n",
      "voy a proceder estudiando la vuelta bueno\n",
      "bueno veis coge todo perfectamente\n",
      "veis coge todo perfectamente al estimar que es el que estoy usando\n",
      "al estimar que es el que estoy usando por las noches que es pediátrico también\n",
      "por las noches que es pediátrico también pues me vale a mí\n",
      "pues me vale a mí el vapor cuando sé que mi niño lo tengo\n",
      "el vapor cuando sé que mi niño lo tengo también aquí los auriculares que me he\n",
      "también aquí los auriculares que me he comprado nuevos pañuelos de papel que lo\n",
      "comprado nuevos pañuelos de papel que lo gastó muchísimo los chicles y aquí está\n",
      "gastó muchísimo los chicles y aquí está caos que ya bueno ya mostraré un día lo\n",
      "caos que ya bueno ya mostraré un día lo que es todo el cajón bien y esto que es\n",
      "que es todo el cajón bien y esto que es una crema de manos pero que no tengo\n",
      "una crema de manos pero que no tengo hecha de equipos y me rompió el bote\n",
      "hecha de equipos y me rompió el bote pero que no sé si guardar ahí\n",
      "pero que no sé si guardar ahí porque es que de pie no no me cierra el\n",
      "porque es que de pie no no me cierra el cajón entonces lo tengo aquí tengo que\n",
      "cajón entonces lo tengo aquí tengo que limpiar como veis porque mi niño me\n",
      "limpiar como veis porque mi niño me pintan todos lados bueno me pintaba\n",
      "pintan todos lados bueno me pintaba ahora ya no pero más pintado antes\n",
      "ahora ya no pero más pintado antes dentro se está todavía el 6 y nada más\n",
      "dentro se está todavía el 6 y nada más así ha quedado el cajón\n",
      "así ha quedado el cajón aquí abajo por fijarse también el cajón\n",
      "aquí abajo por fijarse también el cajón de la ropa interior también ordenado\n",
      "de la ropa interior también ordenado bueno puede haber un mini vídeo pero es\n",
      "bueno puede haber un mini vídeo pero es un vídeo en el que habréis podido ver\n",
      "un vídeo en el que habréis podido ver cómo se organiza muy bien el cajón\n",
      "cómo se organiza muy bien el cajón sacando lo que hay y con y no te vale ir\n",
      "sacando lo que hay y con y no te vale ir colocando bien lo que hay dentro así\n",
      "colocando bien lo que hay dentro así estoy haciendo toda la casa niña fue un\n",
      "estoy haciendo toda la casa niña fue un descontrol pero bueno me está quedando\n",
      "descontrol pero bueno me está quedando todo muy organizado muy bien ordenado\n",
      "todo muy organizado muy bien ordenado muy limpio y sobre todo lo que no lo que\n",
      "muy limpio y sobre todo lo que no lo que yo veo que no voy a utilizar lo estoy\n",
      "yo veo que no voy a utilizar lo estoy tirando no estoy siguiendo el método de\n",
      "tirando no estoy siguiendo el método de la comar y es a lo que es fiel mente\n",
      "la comar y es a lo que es fiel mente pero si estoy siguiendo lo acosó modo y\n",
      "pero si estoy siguiendo lo acosó modo y bueno pues ya está hasta aquí ha llegado\n",
      "bueno pues ya está hasta aquí ha llegado este vídeo espero que os haya gustado un\n",
      "este vídeo espero que os haya gustado un poquillo así firmado pero y nada más me\n",
      "poquillo así firmado pero y nada más me despido hasta un mes y con las demás\n",
      "despido hasta un mes y con las demás cremas es que no las tengo ahí las\n",
      "cremas es que no las tengo ahí las cremas y tratamientos ojeda de la cara y\n",
      "cremas y tratamientos ojeda de la cara y entonces como tengo en el cuarto de baño\n",
      "entonces como tengo en el cuarto de baño que ya los mostraré también un día\n",
      "que ya los mostraré también un día porque ahora no me puedo parar un besito\n",
      "porque ahora no me puedo parar un besito grande que voy a salir bien\n",
      "grande que voy a salir bien confeccionando lo que la limpieza del\n",
      "confeccionando lo que la limpieza del hogar tal vez glück y acá nos vemos\n",
      "hogar tal vez glück y acá nos vemos pronto\n"
     ]
    },
    {
     "ename": "IndexError",
     "evalue": "list index out of range",
     "output_type": "error",
     "traceback": [
      "\u001b[1;31m---------------------------------------------------------------------------\u001b[0m",
      "\u001b[1;31mIndexError\u001b[0m                                Traceback (most recent call last)",
      "\u001b[1;32mc:\\tgzw\\PycharmProjects\\terminal-clock\\test2-terminal-clock.ipynb Celda 28\u001b[0m in \u001b[0;36m<cell line: 2>\u001b[1;34m()\u001b[0m\n\u001b[0;32m      <a href='vscode-notebook-cell:/c%3A/tgzw/PycharmProjects/terminal-clock/test2-terminal-clock.ipynb#X43sZmlsZQ%3D%3D?line=0'>1</a>\u001b[0m \u001b[39mimport\u001b[39;00m \u001b[39mre\u001b[39;00m\n\u001b[0;32m      <a href='vscode-notebook-cell:/c%3A/tgzw/PycharmProjects/terminal-clock/test2-terminal-clock.ipynb#X43sZmlsZQ%3D%3D?line=1'>2</a>\u001b[0m \u001b[39mfor\u001b[39;00m i,j \u001b[39min\u001b[39;00m \u001b[39menumerate\u001b[39m(conchicc1[\u001b[39m0\u001b[39m][video_id]):\n\u001b[1;32m----> <a href='vscode-notebook-cell:/c%3A/tgzw/PycharmProjects/terminal-clock/test2-terminal-clock.ipynb#X43sZmlsZQ%3D%3D?line=2'>3</a>\u001b[0m     text \u001b[39m=\u001b[39m j[\u001b[39m'\u001b[39m\u001b[39mtext\u001b[39m\u001b[39m'\u001b[39m] \u001b[39m+\u001b[39m \u001b[39m'\u001b[39m\u001b[39m \u001b[39m\u001b[39m'\u001b[39m \u001b[39m+\u001b[39m conchicc1[\u001b[39m0\u001b[39;49m][video_id][i\u001b[39m+\u001b[39;49m\u001b[39m1\u001b[39;49m][\u001b[39m'\u001b[39m\u001b[39mtext\u001b[39m\u001b[39m'\u001b[39m]\n\u001b[0;32m      <a href='vscode-notebook-cell:/c%3A/tgzw/PycharmProjects/terminal-clock/test2-terminal-clock.ipynb#X43sZmlsZQ%3D%3D?line=4'>5</a>\u001b[0m     text \u001b[39m=\u001b[39m re\u001b[39m.\u001b[39msub(\u001b[39m\"\u001b[39m\u001b[39m[\u001b[39m\u001b[39m\\\u001b[39m\u001b[39m(\u001b[39m\u001b[39m\\\u001b[39m\u001b[39m[].*?[\u001b[39m\u001b[39m\\\u001b[39m\u001b[39m)\u001b[39m\u001b[39m\\\u001b[39m\u001b[39m]]\u001b[39m\u001b[39m\"\u001b[39m, \u001b[39m\"\u001b[39m\u001b[39m\"\u001b[39m, text)\n\u001b[0;32m      <a href='vscode-notebook-cell:/c%3A/tgzw/PycharmProjects/terminal-clock/test2-terminal-clock.ipynb#X43sZmlsZQ%3D%3D?line=6'>7</a>\u001b[0m     \u001b[39mprint\u001b[39m(text)\n",
      "\u001b[1;31mIndexError\u001b[0m: list index out of range"
     ]
    }
   ],
   "source": [
    "import re\n",
    "for i,j in enumerate(conchicc1[0][video_id]):\n",
    "    text = j['text'] + ' ' + conchicc1[0][video_id][i+1]['text']\n",
    "\n",
    "    text = re.sub(\"[\\(\\[].*?[\\)\\]]\", \"\", text)\n",
    "\n",
    "    print(text)"
   ]
  },
  {
   "cell_type": "code",
   "execution_count": 6,
   "metadata": {},
   "outputs": [
    {
     "data": {
      "text/plain": [
       "<youtube_transcript_api._transcripts.Transcript at 0x29cc9e7ba30>"
      ]
     },
     "execution_count": 6,
     "metadata": {},
     "output_type": "execute_result"
    }
   ],
   "source": [
    "YouTubeTranscriptApi.list_transcripts(video_id).find_transcript(['es'])"
   ]
  },
  {
   "cell_type": "code",
   "execution_count": null,
   "metadata": {},
   "outputs": [
    {
     "ename": "",
     "evalue": "",
     "output_type": "error",
     "traceback": [
      "\u001b[1;31mCanceled future for execute_request message before replies were done"
     ]
    },
    {
     "ename": "",
     "evalue": "",
     "output_type": "error",
     "traceback": [
      "El Kernel se bloqueó al ejecutar código en la celda actual o en una celda anterior. Revise el código de las celdas para identificar una posible causa del error. Haga clic <a href='https://aka.ms/vscodeJupyterKernelCrash'>aquí</a> para obtener más información. Vea el [registro] de Jupyter (command:jupyter.viewOutput) para obtener más detalles."
     ]
    }
   ],
   "source": [
    "theoffice101 = '''\n",
    "Michael: All right Jim. Your quarterlies look very good. How are things at the library? Jim: Oh, I told you. I couldn't close it. So... Michael: So you've come to the master for guidance? Is this what you're saying, grasshopper? Jim: Actually, you called me in here, but yeah. Michael: All right. Well, let me show you how it's done. Michael: [on the phone] Yes, I'd like to speak to your office manager, please. Yes, hello. This is Michael Scott. I am the Regional Manager of Dunder Mifflin Paper Products. Just wanted to talk to you manager-a-manger. [quick cut scene] All right. Done deal. Thank you very much, sir. You're a gentleman and a scholar. Oh, I'm sorry. OK. I'm sorry. My mistake. [hangs up] That was a woman I was talking to, so... She had a very low voice. Probably a smoker, so... [Clears throat] So that's the way it's done. Michael: I've, uh, I've been at Dunder Mifflin for 12 years, the last four as Regional Manager. If you want to come through here... See we have the entire floor. So this is my kingdom, as far as the eye can see. This is our receptionist, Pam. Pam! Pam-Pam! Pam Beesly. Pam has been with us for... forever. Right, Pam? Pam: Well. I don't know. Michael: If you think she's cute now, you should have seen her a couple of years ago. [growls] Pam: What? Michael: Any messages? Pam: Uh, yeah. Just a fax. Michael: Oh! Pam, this is from Corporate. How many times have I told you? There's a special filing cabinet for things from corporate. Pam: You haven't told me. Michael: It's called the wastepaper basket! Look at that! Look at that face. Michael: People say I am the best boss. They go, \"God we've never worked in a place like this before. You're hilarious.\" \"And you get the best out of us.\" [shows the camera his WORLD'S BEST BOSS mug] I think that pretty much sums it up. I found it at Spencer Gifts. Dwight: [singing] Shall I play for you? Pa rum pump um pum [Imitates heavy drumming] I have no gifts for you. Pa rum pump um pum [Imitates heavy drumming] Jim: My job is to speak to clients on the phone about... uh, quantities and type of copier paper. You know, whether we can supply it to them. Whether they can pay for it. And... I'm boring myself just talking about this. Michael: Whassup! Jim: Whassup! I still love that after seven years. Michael: Whassup! Dwight: Whassup! Michael: Whass...up! Dwight: Whassup. Michael: [Strains, grunts] What? Jim: Nothing. Michael: OK. All right. See you later. Jim: All right. Take care. Michael: Back to work. Jan: [on her cell phone] Just before lunch. That would be great. Michael: Corporate really doesn't really interfere with me at all. Jan Levinson Gould. [walking out of his office] Jan, hello. I call her Hillary Rodham Clinton. Right? Not to her face, because... well, not because I'm scared of her. Because I'm not. But, um... Yeah. Jan: Alright, was there anything you wanted to add to the agenda? Michael: Um... Me no get an agenda. Jan: What? I'm sorry? Michael: I didn't get any agenda. Jan: Well, I faxed one over to you this morning. Michael: Really? I didn't... [looks at Pam] Did we get a fax this morning? Pam: Uh, yeah, the one... Michael: Why isn't it in my hand? A company runs on efficiency of communication, right? So what's the problem, Pam? Why didn't I get it? Pam: You put in the garbage can that was a special filing cabinet. Michael: Yeah, that was a joke. That was a joke that was actually my brother's, and... It was supposed to be with bills and it doesn't work great with faxes. Jan: Do you want to look at mine? Michael: Yeah, yeah. Lovely. Thank you. Jan: OK. Since the last meeting, Ellen and the board have decided we can't justify a Scranton branch and a Stamford branch. Michael: OK... Jan: Michael, don't panic. Michael: No, no, no, no, this is good. This is good. This is fine. Excellent. Jan: No, no, no, Michael, listen OK. Don't panic. We haven't made... We haven't decided. Michael: All the alarm bells are kind of going... ringie-dingie-ding! Jan: I've spoken to Josh in Stamford. I've told him the same as you and it's up to either him or you to convince me that your branch can incorporate the other. Michael: OK. No problem. Jan: This does, however, mean that there is going to be downsizing. Michael: Me no wanna hear that, Jan. Because downsizing is a bitch. It is a real bitch. And I wouldn't wish that on Josh's men. I certainly wouldn't wish it on my men. Or women, present company excluded. Sorry. Uh, is Josh concerned about downsizing himself? Not downsizing himself but is he concerned about downsizing? Michael: Question. How long do we have to... [Telephone rings] Oh uh, Todd Packer, terrific rep. Do you mind if I take it? Jan: Go ahead. Michel: Packman. Todd Packer: Hey, you big queen. Michael: Oh, that's not appropriate. Todd Packer: Hey, is old Godzillary coming in today? Michael: Uh, I don't know what you mean. Todd Packer: I've been meaning to ask her one question. Does the carpet match the drapes? Michael: Oh, my God! Oh! That's... horrifying. Horrible. Horrible person. Jan: So do you think we could keep a lid on this for now? I don't want to worry people unnecessarily. Michael: No, absolutely. Under this regime, it will not leave this office. [zips his lips] Like that. Phyllis: So what does downsizing actually mean? Stanley: Well... Oscar: You guys better update your resumes just like I'm doing. Angela: I bet it's gonna be me. Probably gonna be me. Kevin: Yeah, it'll be you. Pam: I have an important question for you. Jim: Yes? Pam: Are you going to Angela's cat party on Sunday? Jim: Yeah, stop. That is ridiculous. Michael: Am I going to tell them? No, I am not going to tell them. I don't see the point of that. As a doctor, you would not tell a patient if they had cancer. Michael: Hey. Ryan: Hey. Pam: This is Mr. Scott. Michael: Guilty! Guilty as charged! Ryan: Ryan Howard from the temp agency. Daniqua sent me down to start today. Michael: Howard, like Moe Howard. Three Stooges. Ryan: Yup. Michael: Watch this. This is Moe. Nyuck-nyuck-nyuck-nyuck-nyuck. Mee! [hold hand up for a high five] Ah, right here. Three Stooges. Oh, Pam. It's a guy thing, Pam. I'm sort of a student of comedy. Watch this. Here we go. [Yelling in cod German] I'm h*tler. Adolf h*tler. [Continues with cod German] Pam: I don't think it would be the worst thing if they let me go because then I might... I don't think it's many little girls' dream to be a receptionist. I like to do illustrations. Um... Mostly watercolor. A few oil pencil. Um, Jim thinks they're good. Pam: Dunder Mifflin. This is Pam. Jim: Sure. Mr. Davis, let me call you right back. Yeah, something just came up. Two minutes. Thank you very much. Dwight, what are you doing? Dwight: What? Jim: What are you doing? Dwight: Just clearing my desk. I can't concentrate. Jim: It's not on your desk. Dwight: It's overlapping. It's all spilling over the edge. One word, two syllables. Demarcation. Dwight: You can't do that. Jim: Why not? Dwight: Safety violation. I could fall and pierce an organ. Jim: [crosses fingers] We'll see. [Dwight begins smashing pencils with his phone] This is why the whole downsizing thing just doesn't bother me. Dwight: Downsizing? Dwight: Downsizing? I have no problem with that. I have been recommending downsizing since I first got here. I even brought it up in my interview. I say, bring it on. Pam: You just still have these messages from yesterday. Michael: Relax. Everything's under control. Uh, yeah. Yeah. That's important. Right. Oh this is so important, I should run to answer it. [Imitating Six-Million Dollar Man sound effect] Pam: What? Michael: Come on. Six-Million Dollar Man! Steve Austin! Actually, that would be a good salary for me, don't you think? Six million dollars? Memo to Jan. I deserve a raise. Pam: Don't we all? Michael: I'm sorry? Pam: Nothing. Michael: If you're unhappy with your compensation, maybe you should take it up with HR. OK. Not today, OK? Pam, just be professional. [Sighs] Michael: I think I'm a role model here. I think I garner people's respect. [Imitating a PA] Attention all Dunder Mifflin employees, please. We have a meeting in the conference room, ASAP. Michael: People I respect, heroes of mine, would be Bob Hope... Abraham Lincoln, definitely. Bono. And probably God would be the fourth one. And I just think all those people really helped the world in so many ways that it's really beyond words. It's really incalculable. Michael: Now I know there's some rumors out there and I just kind of want to set the record straight. Dwight: I'm Assistant Regional Manager. I should know first. Michael: Assistant to the Regional Manager. Dwight: OK, um, can you just tell me please? Just tell me quietly. Can you whisper it in my ear? Michael: I'm about to tell everybody. I'm just about to tell everybody. Oscar: Can't you just tell us. Dwight: Please, OK? Do you want me to tell 'em? Michael: You don't know what it is. [Laughs] Dwight: OK. You tell 'em. With my permission. Permission granted. Michael: I don't need your permission. Dwight: Go ahead. Michael: Corporate has deemed it appropriate to enforce an ultimatum upon me. And Jan is thinking about downsizing either the Stamford branch or this branch. Ryan: I heard they might be closing this branch down. That's just the rumor going around. This is my first day. I don't really know. Oscar: Yeah but Michael, what if they downsize here? Michael: Not gonna happen. Stanley: It could be out of your hands Michael. Michael: It won't be out of my hands Stanley, OK. I promise you that. Stanley: Can you promise that? Dwight: On his mother's grave. Michael: No. Phyllis: What? Michael: Well, yeah, it is a promise. And frankly, I'm a little insulted that you have to keep asking about it. Stanley: It's just that we need to know. Michael: I know. Hold on a second. I think Pam wanted to say something. Pam, you had a look that you wanted to ask a question just then. Pam: I was in the meeting with Jan and she did say that it could be this branch that gets the axe. Man: Are you sure about that? Michael: Well, Pam maybe you should stick to the ongoing confidentiality agreement of meetings. Dwight: Pam, information is power. Stanley: You can't say for sure whether it'll be us or them, can you? Michael: No, Stanley. No, you did not see me in there with her. I said if Corporate wants to come in here and interfere, then they're gonna have to go through me. Right? You can go mess with Josh's people, but I'm the head of this family, and you ain't gonna be messing with my chillin. Jim: If I left, what would I do with all this useless information in my head? You know? Tonnage price of manila folders? Um, Pam's favorite flavor of yogurt, which is mixed berry. Pam: Jim said mixed berries? Well, yeah, he's on to me. Um... [Laughs] Michael: Watch out for this guy. Dwight Schrute in the building. This is Ryan, the new temp. Ryan: What's up? Nice to meet you. Michael: Introduce yourself. Be polite. Dwight: Dwight Schrute, Assistant Regional Manager. Michael: Assistant to the Regional Manager. So, uh, Dwight tell him about the kung fu and the car and everything. Dwight: Uh... yeah I got a '78 280Z. Bought it for $1,200. Fixed it up. It's now worth three grand. Michael: That's his profit. Dwight: New engine, new suspension, I got a respray. I've got some photos. Dwight: Damn it! Jim! Michael: OK. Hold on, hold on. The judge is in session. What is the problem here? Dwight: He put my stuff in Jell-O again. Pam: [Laughing] Dwight: That's real professional thanks. That's the third time and it wasn't funny the first two times either Jim. Dwight: It's OK here, but people sometimes take advantage because it's so relaxed. I'm a volunteer Sheriff's Deputy on the weekends. And you cannot screw around there. That's sort of one of the rules. Michael: What is that? Dwight: That is my stapler. Michael: No, no, no. Do not take it out. You have to eat it out of there, because there are starving people in the world [turns to camera] which I hate, and it is a waste of that kind of food. Dwight: OK you know what, you can be a witness. [points to Ryan] Can you reprimand him? Jim: How do you know it was me? Dwight: It's always you. Are you going to discipline him or not? Michael: Discipline. Kinky! [Laughs] All right, here's the deal you guys. The thing about a practical joke is you have to know when to start and as well as when to stop. Dwight: Yeah. Michael: And yeah, Jim this is the time to stop putting Dwight's personal effects into Jell-O. Jim: OK. Dwight, I'm sorry, because I have always been your biggest flan. Michael: [Laughing] Nice. That's the way it is around here. It just kind of goes round and round. Ryan: You should've put him in custardy. Michael: Hey! Yes! New guy! He scores. Dwight: OK, that's great. I guess what I'm most concerned with is damage to company property. That's all. Michael: Pudding. Pudding... I'm trying to think of another dessert to do. Jim: Do you like going out at the end of the week for a drink? Pam: Yeah. Jim: That's why we're all going out. So we can have an end-of-the-week-drink. Pam: So when are we going out? Jim: Tonight, hopefully. Pam: OK. Yeah. Roy: Hey, man. Jim: What's going on? Roy: Hey, baby. Pam: Hey. Pam: Roy's my fiance. We've been engaged about three years. We were supposed to get married in September but I think we're gonna get married in the spring. Pam: Do you mind if I go out for a drink with these guys? Roy: No, no. Come on. Let's get out of here and go home. Pam: OK. I'm gonna be a few minutes. So it's only twenty past five. I still have to do my faxes. Jim: You know what? You should come with us. Because you know we're all going out and it could be a good chance for you to see what people are like outside the office. I think it could be fun. Roy: It sounds good. Seriously, we've gotta get going. Jim: Yeah, yeah. Jim: Um... What's in the bag? Roy: Just tell her I'll talk to her later. Jim: No, definitely. All right, dude. Awesome. Will do. Jim: Do I think I'll be invited to the wedding? [scratches head] Michael: So have you felt the vibe yet? We work hard, we play hard. Sometimes we play hard when we should be working hard. Right? I guess the atmosphere that I've created here is that I'm a friend first, and a boss second... and probably an entertainer third. [Knock at door] Just a second. Right? Oh, hey do you like The Jamie Kennedy Experiment? Punk'd and all that kind of stuff? Ryan: Yeah. Michael: You are gonna be my accomplice. Just go along with it, OK? Ryan: All right. Michael: Just follow my lead. Don't pimp me, all right? Come in. So, uh, Corporate just said that I don't want to... Pam: You got a fax. Michael: Oh, thank you. Pam, can you come in here for a sec. Just have a seat. I was gonna call you in anyway. You know Ryan. As you know, there is going to be downsizing. And you have made my life so much easier in that I am going to have to let you go first. Pam: What? Why? Michael: Why? Well, theft and stealing. Pam: Stealing? What am I supposed to have stolen? Michael: Post-it Notes. Pam: Post-it Notes? What are those worth, 50 cents? Michael: 50 cents, yeah. If you steal a thousand Post-It Notes at 50 cents apiece, and you know, you've made a profit... margin. You're gonna run us out of business, Pam. Pam: Are you serious? Michael: Yeah. I am. Pam: I can't believe this. I mean I have never even stolen as much as a paperclip and you're firing me. Michael: But the best thing about it is that we're not going to have to give you any severance pay. Because that is gross misconduct and... Just clean out your desk. I'm sorry. Michael: [Pam starts crying] You been X'd punk! [Laughing] Surprise! It's a joke. We were joking around. See? OK. He was in on it. He was my accomplice. And it was kind of a morale booster thing. And we were showing the new guy around, giving him the feel of the place. So you... God, we totally got you. Pam: You're a jerk. Michael: I don't know about that. Michael: What is the most important thing for a company? Is it the cash flow? Is it the inventory? Nuh-uh. It's the people. The people. My proudest moment here was not when I increased profits by 17% or when I cut expenses without losing a single employee. No, no, no, no, no. It was a young Guatemalan guy. First job in the country, barely spoke English. He came to me, and said, \"Mr. Scott, would you be the godfather of my child?\" Wow. Wow. Didn't work out in the end. We had to let him go. He sucked. Pam: Hey. Jim: Hey. Jim: How are things? Pam: Good. I thought you were going out for a drink with... Jim: Oh no, I just decided not to. How's your headache? Pam: It's better, thanks. Jim: Good. Good. Pam: Yeah. Jim: That's great Pam: Is...? Jim: Yeah? Pam: Um... Are you... Jim: Am I walking out? Pam: Yes. Jim: Yes, I... Do you want to... Pam: Yeah. Jim: Great. Let me just... Jim: [Car horn honking] Oh, Roy. Pam: Yeah. Listen, have a nice weekend. Jim: Yeah, definitely. You too. Enjoy it. [looks at camera] You know what, just come here.\n",
    "\n",
    "Read more at: https://transcripts.foreverdreaming.org/viewtopic.php?f=574&t=25301&sid=a2d63863438dcff852f15f77df3c2986\n",
    "'''"
   ]
  },
  {
   "cell_type": "code",
   "execution_count": 27,
   "metadata": {},
   "outputs": [
    {
     "ename": "NameError",
     "evalue": "name 'requests' is not defined",
     "output_type": "error",
     "traceback": [
      "\u001b[1;31m---------------------------------------------------------------------------\u001b[0m",
      "\u001b[1;31mNameError\u001b[0m                                 Traceback (most recent call last)",
      "\u001b[1;32mc:\\tgzw\\PycharmProjects\\terminal-clock\\test2-terminal-clock.ipynb Celda 31\u001b[0m in \u001b[0;36m<cell line: 3>\u001b[1;34m()\u001b[0m\n\u001b[0;32m      <a href='vscode-notebook-cell:/c%3A/tgzw/PycharmProjects/terminal-clock/test2-terminal-clock.ipynb#X36sZmlsZQ%3D%3D?line=0'>1</a>\u001b[0m url \u001b[39m=\u001b[39m \u001b[39m\"\u001b[39m\u001b[39mhttps://transcripts.foreverdreaming.org/viewtopic.php?f=574&t=25301&sid=a2d63863438dcff852f15f77df3c2986\u001b[39m\u001b[39m\"\u001b[39m\n\u001b[1;32m----> <a href='vscode-notebook-cell:/c%3A/tgzw/PycharmProjects/terminal-clock/test2-terminal-clock.ipynb#X36sZmlsZQ%3D%3D?line=2'>3</a>\u001b[0m html \u001b[39m=\u001b[39m requests\u001b[39m.\u001b[39mget(url)\u001b[39m.\u001b[39mtext\n\u001b[0;32m      <a href='vscode-notebook-cell:/c%3A/tgzw/PycharmProjects/terminal-clock/test2-terminal-clock.ipynb#X36sZmlsZQ%3D%3D?line=3'>4</a>\u001b[0m soup \u001b[39m=\u001b[39m BeautifulSoup(html, \u001b[39m\"\u001b[39m\u001b[39mlxml\u001b[39m\u001b[39m\"\u001b[39m)\n",
      "\u001b[1;31mNameError\u001b[0m: name 'requests' is not defined"
     ]
    }
   ],
   "source": [
    "url = \"https://transcripts.foreverdreaming.org/viewtopic.php?f=574&t=25301&sid=a2d63863438dcff852f15f77df3c2986\"\n",
    "\n",
    "html = requests.get(url).text\n",
    "soup = BeautifulSoup(html, \"lxml\")"
   ]
  },
  {
   "cell_type": "code",
   "execution_count": 126,
   "metadata": {},
   "outputs": [
    {
     "ename": "TypeError",
     "evalue": "assertEqual() missing 1 required positional argument: 'second'",
     "output_type": "error",
     "traceback": [
      "\u001b[1;31m---------------------------------------------------------------------------\u001b[0m",
      "\u001b[1;31mTypeError\u001b[0m                                 Traceback (most recent call last)",
      "\u001b[1;32mc:\\tgzw\\PycharmProjects\\terminal-clock\\test2-terminal-clock.ipynb Celda 28\u001b[0m in \u001b[0;36m<cell line: 3>\u001b[1;34m()\u001b[0m\n\u001b[0;32m      <a href='vscode-notebook-cell:/c%3A/tgzw/PycharmProjects/terminal-clock/test2-terminal-clock.ipynb#X35sZmlsZQ%3D%3D?line=0'>1</a>\u001b[0m \u001b[39mimport\u001b[39;00m \u001b[39munittest\u001b[39;00m\n\u001b[0;32m      <a href='vscode-notebook-cell:/c%3A/tgzw/PycharmProjects/terminal-clock/test2-terminal-clock.ipynb#X35sZmlsZQ%3D%3D?line=1'>2</a>\u001b[0m \u001b[39m# unittest.TestCase.describe('Basic Tests')\u001b[39;00m\n\u001b[1;32m----> <a href='vscode-notebook-cell:/c%3A/tgzw/PycharmProjects/terminal-clock/test2-terminal-clock.ipynb#X35sZmlsZQ%3D%3D?line=2'>3</a>\u001b[0m unittest\u001b[39m.\u001b[39;49mTestCase\u001b[39m.\u001b[39;49massertEqual(seven(times(five())), \u001b[39m35\u001b[39;49m)\n",
      "\u001b[1;31mTypeError\u001b[0m: assertEqual() missing 1 required positional argument: 'second'"
     ]
    }
   ],
   "source": []
  }
 ],
 "metadata": {
  "kernelspec": {
   "display_name": "Python 3.8.8 ('venv': venv)",
   "language": "python",
   "name": "python3"
  },
  "language_info": {
   "codemirror_mode": {
    "name": "ipython",
    "version": 3
   },
   "file_extension": ".py",
   "mimetype": "text/x-python",
   "name": "python",
   "nbconvert_exporter": "python",
   "pygments_lexer": "ipython3",
   "version": "3.8.8"
  },
  "orig_nbformat": 4,
  "vscode": {
   "interpreter": {
    "hash": "d51c2a0e8d84accb44a7f12a865df18fe955bb4efe92881841ddf8d44fe842ae"
   }
  }
 },
 "nbformat": 4,
 "nbformat_minor": 2
}
