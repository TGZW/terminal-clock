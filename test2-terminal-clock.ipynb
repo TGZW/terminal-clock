{
 "cells": [
  {
   "cell_type": "code",
   "execution_count": 27,
   "metadata": {},
   "outputs": [],
   "source": [
    "import time\n",
    "import os"
   ]
  },
  {
   "cell_type": "code",
   "execution_count": 8,
   "metadata": {},
   "outputs": [],
   "source": [
    "COLON = ' \\n.\\n.'\n",
    "\n",
    "class Numbers:\n",
    "    def __init__(self):\n",
    "        self.zero = ' __ \\n|  |\\n|__|'\n",
    "        self.one = '    \\n   |\\n   |'\n",
    "        self.two = ' __ \\n __|\\n|__ '\n",
    "        self.three = ' __ \\n __|\\n __|'\n",
    "        self.four = '    \\n|__|\\n   |'\n",
    "        self.five = ' __ \\n|__ \\n __|'\n",
    "        self.six = ' __ \\n|__ \\n|__|'\n",
    "        self.seven = ' __ \\n   |\\n   |'\n",
    "        self.eight = ' __ \\n|__|\\n|__|'\n",
    "        self.nine = ' __ \\n|__|\\n   |'\n",
    "\n",
    "num = Numbers()\n",
    "NUM = num.__dict__"
   ]
  },
  {
   "cell_type": "code",
   "execution_count": 4,
   "metadata": {},
   "outputs": [],
   "source": [
    "def digits_parser(digits,rows=3):\n",
    "    return [''.join(dig.split('\\n')[i] for dig in digits) for i in range(rows)]\n",
    "\n",
    "def printer(digits):\n",
    "    for row in digits_parser(digits): print(row)"
   ]
  },
  {
   "cell_type": "code",
   "execution_count": 5,
   "metadata": {},
   "outputs": [
    {
     "data": {
      "text/plain": [
       "{'zero': ' __ \\n|  |\\n|__|',\n",
       " 'one': '    \\n   |\\n   |',\n",
       " 'two': ' __ \\n __|\\n|__ ',\n",
       " 'three': ' __ \\n __|\\n __|',\n",
       " 'four': '    \\n|__|\\n   |',\n",
       " 'five': ' __ \\n|__ \\n __|',\n",
       " 'six': ' __ \\n|__ \\n|__|',\n",
       " 'seven': ' __ \\n   |\\n   |',\n",
       " 'eight': ' __ \\n|__|\\n|__|',\n",
       " 'nine': ' __ \\n|__|\\n   |'}"
      ]
     },
     "execution_count": 5,
     "metadata": {},
     "output_type": "execute_result"
    }
   ],
   "source": [
    "num = Numbers()\n",
    "num.__dict__"
   ]
  },
  {
   "cell_type": "code",
   "execution_count": 14,
   "metadata": {},
   "outputs": [],
   "source": [
    "def hour():\n",
    "    return time.strftime(\"%H:%M:%S\",time.localtime())\n",
    "\n",
    "def non_efficient_hour_parser(hour):\n",
    "    digits = []\n",
    "    for i in hour().split(\":\"):\n",
    "        for j in i:\n",
    "            digits.appen(NUM[NUM.keys()[int(j)]])\n",
    "            # digit = num.__dict__[num.__dict__.keys()[int(j)]]\n",
    "        digits.append(COLON)\n",
    "    return digits[:-1]\n"
   ]
  },
  {
   "cell_type": "code",
   "execution_count": 12,
   "metadata": {},
   "outputs": [],
   "source": [
    "nums = {\n",
    "    \"0\": ' __ \\n|  |\\n|__|',\n",
    "    \"1\": '    \\n   |\\n   |',\n",
    "    \"2\": ' __ \\n __|\\n|__ ',\n",
    "    \"3\": ' __ \\n __|\\n __|',\n",
    "    \"4\": '    \\n|__|\\n   |',\n",
    "    \"5\": ' __ \\n|__ \\n __|',\n",
    "    \"6\": ' __ \\n|__ \\n|__|',\n",
    "    \"7\": ' __ \\n   |\\n   |',\n",
    "    \"8\": ' __ \\n|__|\\n|__|',\n",
    "    \"9\": ' __ \\n|__|\\n   |',\n",
    "    \":\": ' \\n.\\n.'\n",
    "}\n"
   ]
  },
  {
   "cell_type": "code",
   "execution_count": 26,
   "metadata": {},
   "outputs": [
    {
     "data": {
      "text/plain": [
       "[' __ \\n|  |\\n|__|',\n",
       " ' __ \\n|  |\\n|__|',\n",
       " ' \\n.\\n.',\n",
       " ' __ \\n __|\\n|__ ',\n",
       " ' __ \\n|__|\\n|__|',\n",
       " ' \\n.\\n.',\n",
       " ' __ \\n __|\\n __|',\n",
       " '    \\n|__|\\n   |']"
      ]
     },
     "execution_count": 26,
     "metadata": {},
     "output_type": "execute_result"
    }
   ],
   "source": [
    "def hour_parser(hour):\n",
    "    return [nums[i] for i in hour()]\n",
    "\n",
    "hour_parser(hour)"
   ]
  },
  {
   "cell_type": "code",
   "execution_count": 28,
   "metadata": {},
   "outputs": [],
   "source": [
    "def clear_output():\n",
    "    os.system('cls' if os.name == 'nt' else 'clear') "
   ]
  },
  {
   "cell_type": "code",
   "execution_count": null,
   "metadata": {},
   "outputs": [],
   "source": [
    "def clock():\n",
    "    clear_output()\n",
    "    printer(hour_parser())\n",
    "    time.sleep(1)"
   ]
  }
 ],
 "metadata": {
  "kernelspec": {
   "display_name": "Python 3.8.8 ('venv': venv)",
   "language": "python",
   "name": "python3"
  },
  "language_info": {
   "codemirror_mode": {
    "name": "ipython",
    "version": 3
   },
   "file_extension": ".py",
   "mimetype": "text/x-python",
   "name": "python",
   "nbconvert_exporter": "python",
   "pygments_lexer": "ipython3",
   "version": "3.8.8"
  },
  "orig_nbformat": 4,
  "vscode": {
   "interpreter": {
    "hash": "d51c2a0e8d84accb44a7f12a865df18fe955bb4efe92881841ddf8d44fe842ae"
   }
  }
 },
 "nbformat": 4,
 "nbformat_minor": 2
}
