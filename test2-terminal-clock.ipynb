{
 "cells": [
  {
   "cell_type": "code",
   "execution_count": null,
   "metadata": {},
   "outputs": [],
   "source": [
    "import time"
   ]
  },
  {
   "cell_type": "code",
   "execution_count": 2,
   "metadata": {},
   "outputs": [],
   "source": [
    "COLON = ' \\n.\\n.'\n",
    "\n",
    "class Numbers:\n",
    "    def __init__(self):\n",
    "        self.zero = ' __ \\n|  |\\n|__|'\n",
    "        self.one = '    \\n   |\\n   |'\n",
    "        self.two = ' __ \\n __|\\n|__ '\n",
    "        self.three = ' __ \\n __|\\n __|'\n",
    "        self.four = '    \\n|__|\\n   |'\n",
    "        self.five = ' __ \\n|__ \\n __|'\n",
    "        self.six = ' __ \\n|__ \\n|__|'\n",
    "        self.seven = ' __ \\n   |\\n   |'\n",
    "        self.eight = ' __ \\n|__|\\n|__|'\n",
    "        self.nine = ' __ \\n|__|\\n   |'\n",
    "\n",
    "num ="
   ]
  },
  {
   "cell_type": "code",
   "execution_count": 4,
   "metadata": {},
   "outputs": [],
   "source": [
    "def digits_parser(digits,rows=3):\n",
    "    return [''.join(dig.split('\\n')[i] for dig in digits) for i in range(rows)]\n",
    "\n",
    "def printer(digits):\n",
    "    for row in digits_parser(digits): print(row)"
   ]
  },
  {
   "cell_type": "code",
   "execution_count": 5,
   "metadata": {},
   "outputs": [
    {
     "data": {
      "text/plain": [
       "{'zero': ' __ \\n|  |\\n|__|',\n",
       " 'one': '    \\n   |\\n   |',\n",
       " 'two': ' __ \\n __|\\n|__ ',\n",
       " 'three': ' __ \\n __|\\n __|',\n",
       " 'four': '    \\n|__|\\n   |',\n",
       " 'five': ' __ \\n|__ \\n __|',\n",
       " 'six': ' __ \\n|__ \\n|__|',\n",
       " 'seven': ' __ \\n   |\\n   |',\n",
       " 'eight': ' __ \\n|__|\\n|__|',\n",
       " 'nine': ' __ \\n|__|\\n   |'}"
      ]
     },
     "execution_count": 5,
     "metadata": {},
     "output_type": "execute_result"
    }
   ],
   "source": [
    "num = Numbers()\n",
    "num.__dict__"
   ]
  },
  {
   "cell_type": "code",
   "execution_count": null,
   "metadata": {},
   "outputs": [],
   "source": [
    "hour = time.strftime(\"%H:%M:%S\",time.localtime())\n",
    "\n",
    "def hour_parser(hour):\n",
    "    "
   ]
  }
 ],
 "metadata": {
  "kernelspec": {
   "display_name": "Python 3.8.8 ('venv': venv)",
   "language": "python",
   "name": "python3"
  },
  "language_info": {
   "codemirror_mode": {
    "name": "ipython",
    "version": 3
   },
   "file_extension": ".py",
   "mimetype": "text/x-python",
   "name": "python",
   "nbconvert_exporter": "python",
   "pygments_lexer": "ipython3",
   "version": "3.8.8"
  },
  "orig_nbformat": 4,
  "vscode": {
   "interpreter": {
    "hash": "d51c2a0e8d84accb44a7f12a865df18fe955bb4efe92881841ddf8d44fe842ae"
   }
  }
 },
 "nbformat": 4,
 "nbformat_minor": 2
}
