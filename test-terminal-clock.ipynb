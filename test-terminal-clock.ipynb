{
 "cells": [
  {
   "cell_type": "code",
   "execution_count": null,
   "metadata": {},
   "outputs": [],
   "source": []
  },
  {
   "cell_type": "code",
   "execution_count": 4,
   "metadata": {},
   "outputs": [],
   "source": [
    "# world: set of 2 lenght tuples with XY coords\n",
    "\n",
    "LIVE = '@'\n",
    "EMPTY = '.'\n",
    "SEP = ' '\n",
    "\n",
    "def picture(world, X, Y):\n",
    "    def row(y):\n",
    "        row_pixel = (LIVE if (x,y) in world else EMPTY for x in range(X))\n",
    "        row_complete = SEP.join(row_pixel)\n",
    "        return row_complete\n",
    "    row_collection = (row(y) for y in range(Y))\n",
    "    picture_complete = '\\n'.join(row_collection)\n",
    "    return picture_complete"
   ]
  },
  {
   "cell_type": "code",
   "execution_count": 7,
   "metadata": {},
   "outputs": [
    {
     "name": "stdout",
     "output_type": "stream",
     "text": [
      ". . . . . . . . . .\n",
      ". . . @ . . . . . .\n",
      ". @ . . . . . . . .\n",
      ". @ @ . . . . . . .\n",
      ". . . . . . . . . .\n"
     ]
    }
   ],
   "source": [
    "world = {(3, 1), (1, 2), (1, 3), (2, 3)}\n",
    "print(picture(world, 10, 5))\n",
    "# picture(world, 10, 10)"
   ]
  },
  {
   "cell_type": "code",
   "execution_count": 10,
   "metadata": {},
   "outputs": [
    {
     "name": "stdout",
     "output_type": "stream",
     "text": [
      " __ \n",
      "|  |\n",
      " __ \n",
      "|  |\n",
      " __\n"
     ]
    }
   ],
   "source": [
    "ocho = ' __ \\n|  |\\n __ \\n|  |\\n __'\n",
    "print(ocho)"
   ]
  },
  {
   "cell_type": "code",
   "execution_count": 12,
   "metadata": {},
   "outputs": [
    {
     "name": "stdout",
     "output_type": "stream",
     "text": [
      " -- \n",
      "|  |\n",
      " -- \n",
      "|  |\n",
      " --\n"
     ]
    }
   ],
   "source": [
    "ocho = ' -- \\n|  |\\n -- \\n|  |\\n --'\n",
    "print(ocho)"
   ]
  },
  {
   "cell_type": "code",
   "execution_count": 22,
   "metadata": {},
   "outputs": [
    {
     "name": "stdout",
     "output_type": "stream",
     "text": [
      " __ \n",
      "|  |\n",
      "|__|\n",
      "    \n",
      "   |\n",
      "   |\n",
      " __ \n",
      " __|\n",
      "|__ \n",
      " __ \n",
      " __|\n",
      " __|\n",
      "    \n",
      "|__|\n",
      "   |\n",
      " __ \n",
      "|__ \n",
      " __|\n",
      " __ \n",
      "|__ \n",
      "|__|\n",
      " __ \n",
      "   |\n",
      "   |\n",
      " __ \n",
      "|__|\n",
      "|__|\n",
      " __ \n",
      "|__|\n",
      "   |\n"
     ]
    }
   ],
   "source": [
    "nums = {\n",
    "    \"zero\": ' __ \\n|  |\\n|__|',\n",
    "    \"one\": '    \\n   |\\n   |',\n",
    "    \"two\": ' __ \\n __|\\n|__ ',\n",
    "    \"three\": ' __ \\n __|\\n __|',\n",
    "    \"four\": '    \\n|__|\\n   |',\n",
    "    \"five\": ' __ \\n|__ \\n __|',\n",
    "    \"six\": ' __ \\n|__ \\n|__|',\n",
    "    \"seven\": ' __ \\n   |\\n   |',\n",
    "    \"eight\": ' __ \\n|__|\\n|__|',\n",
    "    \"nine\": ' __ \\n|__|\\n   |'\n",
    "}\n",
    "\n",
    "for num in nums.keys(): print(nums[num]) "
   ]
  },
  {
   "cell_type": "code",
   "execution_count": 41,
   "metadata": {},
   "outputs": [
    {
     "data": {
      "text/plain": [
       "'21:53:20'"
      ]
     },
     "execution_count": 41,
     "metadata": {},
     "output_type": "execute_result"
    }
   ],
   "source": [
    "import time\n",
    "\n",
    "\n",
    "time.strftime(\"%H:%M:%S\",time.localtime())"
   ]
  },
  {
   "cell_type": "code",
   "execution_count": 40,
   "metadata": {},
   "outputs": [
    {
     "data": {
      "text/plain": [
       "time.struct_time(tm_year=2022, tm_mon=8, tm_mday=26, tm_hour=21, tm_min=53, tm_sec=13, tm_wday=4, tm_yday=238, tm_isdst=1)"
      ]
     },
     "execution_count": 40,
     "metadata": {},
     "output_type": "execute_result"
    }
   ],
   "source": [
    "time.localtime()"
   ]
  },
  {
   "cell_type": "code",
   "execution_count": 70,
   "metadata": {},
   "outputs": [],
   "source": [
    "class Numbers:\n",
    "    def __init__(self):\n",
    "        self.zero = ' __ \\n|  |\\n|__|'\n",
    "        self.one = '    \\n   |\\n   |'"
   ]
  },
  {
   "cell_type": "code",
   "execution_count": 74,
   "metadata": {},
   "outputs": [
    {
     "name": "stdout",
     "output_type": "stream",
     "text": [
      " __ \n",
      "|  |\n",
      "|__|\n"
     ]
    }
   ],
   "source": [
    "num = Num()\n",
    "print(numbers1.zero)"
   ]
  },
  {
   "cell_type": "code",
   "execution_count": 75,
   "metadata": {},
   "outputs": [
    {
     "data": {
      "text/plain": [
       "['eight',\n",
       " 'five',\n",
       " 'four',\n",
       " 'nine',\n",
       " 'one',\n",
       " 'seven',\n",
       " 'six',\n",
       " 'three',\n",
       " 'two',\n",
       " 'zero']"
      ]
     },
     "execution_count": 75,
     "metadata": {},
     "output_type": "execute_result"
    }
   ],
   "source": [
    "dir(num)"
   ]
  },
  {
   "cell_type": "code",
   "execution_count": 76,
   "metadata": {},
   "outputs": [
    {
     "data": {
      "text/plain": [
       "{'zero': ' __ \\n|  |\\n|__|', 'one': '    \\n   |\\n   |'}"
      ]
     },
     "execution_count": 76,
     "metadata": {},
     "output_type": "execute_result"
    }
   ],
   "source": [
    "num.__dict__"
   ]
  },
  {
   "cell_type": "code",
   "execution_count": 103,
   "metadata": {},
   "outputs": [
    {
     "name": "stdout",
     "output_type": "stream",
     "text": [
      " __ \n",
      "|  |\n",
      "|__|\n",
      " \n",
      ".\n",
      ".\n",
      " __ \n",
      "|  |\n",
      "|__|\n"
     ]
    }
   ],
   "source": [
    "COLON = ' \\n.\\n.'\n",
    "print(num.zero)\n",
    "print(COLON)\n",
    "print(num.zero)\n"
   ]
  },
  {
   "cell_type": "code",
   "execution_count": 99,
   "metadata": {},
   "outputs": [],
   "source": [
    "def non_pythonic_digits_parser(digits,rows=3):\n",
    "    response = []\n",
    "    for i in range(rows):\n",
    "        result = ''\n",
    "        for dig in digits:\n",
    "            result += dig.split('\\n')[i]\n",
    "        response.append(result)\n",
    "    return response"
   ]
  },
  {
   "cell_type": "code",
   "execution_count": 100,
   "metadata": {},
   "outputs": [],
   "source": [
    "def digits_parser(digits,rows=3):\n",
    "    return [''.join(dig.split('\\n')[i] for dig in digits) for i in range(rows)]"
   ]
  },
  {
   "cell_type": "code",
   "execution_count": 101,
   "metadata": {},
   "outputs": [
    {
     "data": {
      "text/plain": [
       "[' __  __ ', '|  |.|  |', '|__|.|__|']"
      ]
     },
     "execution_count": 101,
     "metadata": {},
     "output_type": "execute_result"
    }
   ],
   "source": [
    "digits_parser([num.zero,COLON,num.zero])"
   ]
  },
  {
   "cell_type": "code",
   "execution_count": 104,
   "metadata": {},
   "outputs": [
    {
     "name": "stdout",
     "output_type": "stream",
     "text": [
      " __   __ \n",
      "|  |.|  |\n",
      "|__|.|__|\n"
     ]
    }
   ],
   "source": [
    "for i in digits_parser([num.zero,COLON,num.zero]): print(i)"
   ]
  }
 ],
 "metadata": {
  "kernelspec": {
   "display_name": "Python 3.8.8 ('venv': venv)",
   "language": "python",
   "name": "python3"
  },
  "language_info": {
   "codemirror_mode": {
    "name": "ipython",
    "version": 3
   },
   "file_extension": ".py",
   "mimetype": "text/x-python",
   "name": "python",
   "nbconvert_exporter": "python",
   "pygments_lexer": "ipython3",
   "version": "3.8.8"
  },
  "orig_nbformat": 4,
  "vscode": {
   "interpreter": {
    "hash": "d51c2a0e8d84accb44a7f12a865df18fe955bb4efe92881841ddf8d44fe842ae"
   }
  }
 },
 "nbformat": 4,
 "nbformat_minor": 2
}
